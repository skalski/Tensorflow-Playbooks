{
  "nbformat": 4,
  "nbformat_minor": 0,
  "metadata": {
    "colab": {
      "name": "Auto Pilot.ipynb",
      "provenance": [],
      "collapsed_sections": [],
      "authorship_tag": "ABX9TyNZVV0st1etSUv45eyPz2B1",
      "include_colab_link": true
    },
    "kernelspec": {
      "name": "python3",
      "display_name": "Python 3"
    },
    "language_info": {
      "name": "python"
    }
  },
  "cells": [
    {
      "cell_type": "markdown",
      "metadata": {
        "id": "view-in-github",
        "colab_type": "text"
      },
      "source": [
        "<a href=\"https://colab.research.google.com/github/skalski/Tensorflow-Playbooks/blob/main/Auto_Pilot.ipynb\" target=\"_parent\"><img src=\"https://colab.research.google.com/assets/colab-badge.svg\" alt=\"Open In Colab\"/></a>"
      ]
    },
    {
      "cell_type": "code",
      "metadata": {
        "id": "cRxS1QXthb1M"
      },
      "source": [
        "import tensorflow as tf\n",
        "import numpy as np\n",
        "import logging\n",
        "logger = tf.get_logger()\n",
        "logger.setLevel(logging.ERROR)"
      ],
      "execution_count": 2,
      "outputs": []
    },
    {
      "cell_type": "markdown",
      "metadata": {
        "id": "i2oP53L1taiE"
      },
      "source": [
        "I create a little autopilot mock. In this Playbook I will face a simple pitch solver for a fictive aircraft. "
      ]
    },
    {
      "cell_type": "code",
      "metadata": {
        "colab": {
          "base_uri": "https://localhost:8080/"
        },
        "id": "PNsVZZ0Jh-ih",
        "outputId": "5ef6483c-03ab-426a-a30f-8dbed648c982"
      },
      "source": [
        "pitch_degrees = np.array([-30, -20,  -10,  0, 10, 20, 30],  dtype=float)\n",
        "stick_pitch_level = np.array([3, 2, 1, 0, -1, -2, 3],  dtype=float)\n",
        "\n",
        "for i,c in enumerate(pitch_degrees):\n",
        "  print(\"{} pitch of aircraft in degree = {} Level of stick to level back to maintain flightlevel \".format(c, stick_pitch_level[i]))"
      ],
      "execution_count": 3,
      "outputs": [
        {
          "output_type": "stream",
          "name": "stdout",
          "text": [
            "-30.0 pitch of aircraft in degree = 3.0 Level of stick to level back to maintain flightlevel \n",
            "-20.0 pitch of aircraft in degree = 2.0 Level of stick to level back to maintain flightlevel \n",
            "-10.0 pitch of aircraft in degree = 1.0 Level of stick to level back to maintain flightlevel \n",
            "0.0 pitch of aircraft in degree = 0.0 Level of stick to level back to maintain flightlevel \n",
            "10.0 pitch of aircraft in degree = -1.0 Level of stick to level back to maintain flightlevel \n",
            "20.0 pitch of aircraft in degree = -2.0 Level of stick to level back to maintain flightlevel \n",
            "30.0 pitch of aircraft in degree = 3.0 Level of stick to level back to maintain flightlevel \n"
          ]
        }
      ]
    },
    {
      "cell_type": "code",
      "metadata": {
        "id": "o-qo1eIRjJzC"
      },
      "source": [
        "l0 = tf.keras.layers.Dense(units=1, input_shape=[1])"
      ],
      "execution_count": 4,
      "outputs": []
    },
    {
      "cell_type": "code",
      "metadata": {
        "id": "xDeKbhufjM4Z"
      },
      "source": [
        "model = tf.keras.Sequential([l0])"
      ],
      "execution_count": 5,
      "outputs": []
    },
    {
      "cell_type": "code",
      "metadata": {
        "id": "iofUUW_9jPpt"
      },
      "source": [
        "model = tf.keras.Sequential([\n",
        "  tf.keras.layers.Dense(units=1, input_shape=[1])\n",
        "])"
      ],
      "execution_count": 6,
      "outputs": []
    },
    {
      "cell_type": "markdown",
      "metadata": {
        "id": "Wf1m_aUGuKA5"
      },
      "source": [
        "To avoid overfitting and save unneeded epochs I add a callback here."
      ]
    },
    {
      "cell_type": "code",
      "metadata": {
        "id": "gL7oMXPbuYBq"
      },
      "source": [
        "class myCallback(tf.keras.callbacks.Callback):\n",
        "  def on_epoch_end(self, epoch, logs={}):\n",
        "    if(logs.get('accuracy')>0.9):\n",
        "      print(\"\\nReached 90% accuracy so cancelling training!\")\n",
        "      self.model.stop_training = True\n",
        "\n",
        "callbacks = myCallback()"
      ],
      "execution_count": 7,
      "outputs": []
    },
    {
      "cell_type": "code",
      "metadata": {
        "colab": {
          "base_uri": "https://localhost:8080/"
        },
        "id": "WJCnUJsQjRx2",
        "outputId": "ad3601fd-e297-4513-b971-f734ab26ff7f"
      },
      "source": [
        "model.compile(loss='mean_squared_error',\n",
        "              optimizer=tf.keras.optimizers.Adam(0.1),\n",
        "              metrics=['accuracy'])\n",
        "history = model.fit(pitch_degrees, stick_pitch_level, epochs=500, verbose=False, callbacks=[callbacks])\n",
        "print(\"Finished training the model\")"
      ],
      "execution_count": 8,
      "outputs": [
        {
          "output_type": "stream",
          "name": "stdout",
          "text": [
            "Finished training the model\n"
          ]
        }
      ]
    },
    {
      "cell_type": "code",
      "metadata": {
        "colab": {
          "base_uri": "https://localhost:8080/",
          "height": 296
        },
        "id": "Me2gk5tPjXof",
        "outputId": "8e815dac-91b9-4714-b15b-067ef4cf797a"
      },
      "source": [
        "import matplotlib.pyplot as plt\n",
        "plt.xlabel('Epoch Number')\n",
        "plt.ylabel(\"Loss Magnitude\")\n",
        "plt.plot(history.history['loss'])"
      ],
      "execution_count": 9,
      "outputs": [
        {
          "output_type": "execute_result",
          "data": {
            "text/plain": [
              "[<matplotlib.lines.Line2D at 0x7f3a9c36c310>]"
            ]
          },
          "metadata": {},
          "execution_count": 9
        },
        {
          "output_type": "display_data",
          "data": {
            "image/png": "[encoded data removed]",
            "text/plain": [
              "<Figure size 432x288 with 1 Axes>"
            ]
          },
          "metadata": {
            "needs_background": "light"
          }
        }
      ]
    },
    {
      "cell_type": "markdown",
      "metadata": {
        "id": "_omhlHDyjbUQ"
      },
      "source": [
        "Let's see what our prediction can do. We try to keep the aircraft on a zero level to maintain the actual height."
      ]
    },
    {
      "cell_type": "code",
      "metadata": {
        "colab": {
          "base_uri": "https://localhost:8080/",
          "height": 296
        },
        "id": "0P893nvVjaVD",
        "outputId": "593d41d8-8848-4cf5-b77d-eaf32218bd56"
      },
      "source": [
        "inital_pitch = -20.0 #The nose is showing 20 degrees towards ground, the plain must steer against.\n",
        "current_steer_level = 1\n",
        "\n",
        "pitch_degrees_history = np.array([inital_pitch], dtype=float)\n",
        "\n",
        "while current_steer_level < -0.1 or current_steer_level > 0.1:\n",
        "  current_steer_level = model.predict([inital_pitch])\n",
        "  inital_pitch = inital_pitch + current_steer_level\n",
        "  pitch_degrees_history = np.append(pitch_degrees_history, np.array([current_steer_level], dtype=float))\n",
        "  \n",
        "import matplotlib.pyplot as plt\n",
        "plt.xlabel('Steer calculation steps')\n",
        "plt.ylabel(\"Degrees of pitch\")\n",
        "plt.plot(pitch_degrees_history)"
      ],
      "execution_count": 10,
      "outputs": [
        {
          "output_type": "execute_result",
          "data": {
            "text/plain": [
              "[<matplotlib.lines.Line2D at 0x7f3a9bdbc0d0>]"
            ]
          },
          "metadata": {},
          "execution_count": 10
        },
        {
          "output_type": "display_data",
          "data": {
            "image/png": "[encoded data removed]",
            "text/plain": [
              "<Figure size 432x288 with 1 Axes>"
            ]
          },
          "metadata": {
            "needs_background": "light"
          }
        }
      ]
    },
    {
      "cell_type": "markdown",
      "metadata": {
        "id": "GX3mpQ1nkJZP"
      },
      "source": [
        "When we see that the pitch rapitly stops and correct the issue of the dangerous situation. Now we do the same with a positive degree, where the nose shows up."
      ]
    },
    {
      "cell_type": "code",
      "metadata": {
        "colab": {
          "base_uri": "https://localhost:8080/",
          "height": 296
        },
        "id": "75vtYt9Jqyhk",
        "outputId": "d8cd1cb9-62a7-4237-cb4d-e2c5e80aaa7d"
      },
      "source": [
        "inital_pitch = 10.0 #The nose is showing 10 degrees up, the plain must steer against.\n",
        "current_steer_level = 1\n",
        "\n",
        "pitch_degrees_history = np.array([inital_pitch], dtype=float)\n",
        "\n",
        "while current_steer_level < -0.1 or current_steer_level > 0.1:\n",
        "  current_steer_level = model.predict([inital_pitch])\n",
        "  inital_pitch = inital_pitch + current_steer_level\n",
        "  pitch_degrees_history = np.append(pitch_degrees_history, np.array([current_steer_level], dtype=float))\n",
        "  \n",
        "import matplotlib.pyplot as plt\n",
        "plt.xlabel('Steer calculation steps')\n",
        "plt.ylabel(\"Degrees of pitch\")\n",
        "plt.plot(pitch_degrees_history)"
      ],
      "execution_count": 11,
      "outputs": [
        {
          "output_type": "execute_result",
          "data": {
            "text/plain": [
              "[<matplotlib.lines.Line2D at 0x7f3a9bcf7290>]"
            ]
          },
          "metadata": {},
          "execution_count": 11
        },
        {
          "output_type": "display_data",
          "data": {
            "image/png": "[encoded data removed]",
            "text/plain": [
              "<Figure size 432x288 with 1 Axes>"
            ]
          },
          "metadata": {
            "needs_background": "light"
          }
        }
      ]
    },
    {
      "cell_type": "markdown",
      "metadata": {
        "id": "mbTCZaNqsLfi"
      },
      "source": [
        "Our fictive Aircraft is doing well. Now he have to learn, that the first steering is quiet to hard and leads to stall."
      ]
    }
  ]
}